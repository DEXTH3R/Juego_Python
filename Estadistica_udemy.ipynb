{
  "nbformat": 4,
  "nbformat_minor": 0,
  "metadata": {
    "colab": {
      "provenance": [],
      "authorship_tag": "ABX9TyPeiEhlbU/yrKs2v2vV7NhR",
      "include_colab_link": true
    },
    "kernelspec": {
      "name": "python3",
      "display_name": "Python 3"
    },
    "language_info": {
      "name": "python"
    }
  },
  "cells": [
    {
      "cell_type": "markdown",
      "metadata": {
        "id": "view-in-github",
        "colab_type": "text"
      },
      "source": [
        "<a href=\"https://colab.research.google.com/github/DEXTH3R/Juego_Python/blob/master/Estadistica_udemy.ipynb\" target=\"_parent\"><img src=\"https://colab.research.google.com/assets/colab-badge.svg\" alt=\"Open In Colab\"/></a>"
      ]
    },
    {
      "cell_type": "code",
      "execution_count": 15,
      "metadata": {
        "colab": {
          "base_uri": "https://localhost:8080/"
        },
        "id": "Ri1mz7pJ6w8y",
        "outputId": "412cd705-5cb5-4574-d911-ab5557f61b60"
      },
      "outputs": [
        {
          "output_type": "stream",
          "name": "stdout",
          "text": [
            "Looking in indexes: https://pypi.org/simple, https://us-python.pkg.dev/colab-wheels/public/simple/\n",
            "Requirement already satisfied: yfinance in /usr/local/lib/python3.9/dist-packages (0.2.13)\n",
            "Requirement already satisfied: appdirs>=1.4.4 in /usr/local/lib/python3.9/dist-packages (from yfinance) (1.4.4)\n",
            "Requirement already satisfied: beautifulsoup4>=4.11.1 in /usr/local/lib/python3.9/dist-packages (from yfinance) (4.11.2)\n",
            "Requirement already satisfied: requests>=2.26 in /usr/local/lib/python3.9/dist-packages (from yfinance) (2.27.1)\n",
            "Requirement already satisfied: lxml>=4.9.1 in /usr/local/lib/python3.9/dist-packages (from yfinance) (4.9.2)\n",
            "Requirement already satisfied: frozendict>=2.3.4 in /usr/local/lib/python3.9/dist-packages (from yfinance) (2.3.6)\n",
            "Requirement already satisfied: pandas>=1.3.0 in /usr/local/lib/python3.9/dist-packages (from yfinance) (1.4.4)\n",
            "Requirement already satisfied: multitasking>=0.0.7 in /usr/local/lib/python3.9/dist-packages (from yfinance) (0.0.11)\n",
            "Requirement already satisfied: numpy>=1.16.5 in /usr/local/lib/python3.9/dist-packages (from yfinance) (1.22.4)\n",
            "Requirement already satisfied: pytz>=2022.5 in /usr/local/lib/python3.9/dist-packages (from yfinance) (2022.7.1)\n",
            "Requirement already satisfied: html5lib>=1.1 in /usr/local/lib/python3.9/dist-packages (from yfinance) (1.1)\n",
            "Requirement already satisfied: cryptography>=3.3.2 in /usr/local/lib/python3.9/dist-packages (from yfinance) (39.0.2)\n",
            "Requirement already satisfied: soupsieve>1.2 in /usr/local/lib/python3.9/dist-packages (from beautifulsoup4>=4.11.1->yfinance) (2.4)\n",
            "Requirement already satisfied: cffi>=1.12 in /usr/local/lib/python3.9/dist-packages (from cryptography>=3.3.2->yfinance) (1.15.1)\n",
            "Requirement already satisfied: webencodings in /usr/local/lib/python3.9/dist-packages (from html5lib>=1.1->yfinance) (0.5.1)\n",
            "Requirement already satisfied: six>=1.9 in /usr/local/lib/python3.9/dist-packages (from html5lib>=1.1->yfinance) (1.16.0)\n",
            "Requirement already satisfied: python-dateutil>=2.8.1 in /usr/local/lib/python3.9/dist-packages (from pandas>=1.3.0->yfinance) (2.8.2)\n",
            "Requirement already satisfied: idna<4,>=2.5 in /usr/local/lib/python3.9/dist-packages (from requests>=2.26->yfinance) (3.4)\n",
            "Requirement already satisfied: certifi>=2017.4.17 in /usr/local/lib/python3.9/dist-packages (from requests>=2.26->yfinance) (2022.12.7)\n",
            "Requirement already satisfied: charset-normalizer~=2.0.0 in /usr/local/lib/python3.9/dist-packages (from requests>=2.26->yfinance) (2.0.12)\n",
            "Requirement already satisfied: urllib3<1.27,>=1.21.1 in /usr/local/lib/python3.9/dist-packages (from requests>=2.26->yfinance) (1.26.15)\n",
            "Requirement already satisfied: pycparser in /usr/local/lib/python3.9/dist-packages (from cffi>=1.12->cryptography>=3.3.2->yfinance) (2.21)\n"
          ]
        }
      ],
      "source": [
        "!pip install yfinance"
      ]
    },
    {
      "cell_type": "code",
      "source": [
        "import numpy as np\n",
        "import pandas as pd\n",
        "import yfinance as yf\n",
        "from scipy.stats import skew, kurtosis"
      ],
      "metadata": {
        "id": "yhOIF_NzCHqQ"
      },
      "execution_count": 16,
      "outputs": []
    },
    {
      "cell_type": "code",
      "source": [
        "df = yf.download(\"GOOG\")[\"Adj Close\"].pct_change(1).dropna()\n",
        "df"
      ],
      "metadata": {
        "colab": {
          "base_uri": "https://localhost:8080/"
        },
        "id": "UKrW2ZvsCoun",
        "outputId": "98829a25-eaf5-4f74-90a6-2c10b4d6ad55"
      },
      "execution_count": 18,
      "outputs": [
        {
          "output_type": "stream",
          "name": "stdout",
          "text": [
            "\r[*********************100%***********************]  1 of 1 completed\n"
          ]
        },
        {
          "output_type": "execute_result",
          "data": {
            "text/plain": [
              "Date\n",
              "2004-08-20    0.079430\n",
              "2004-08-23    0.010064\n",
              "2004-08-24   -0.041408\n",
              "2004-08-25    0.010775\n",
              "2004-08-26    0.018019\n",
              "                ...   \n",
              "2023-03-23    0.019574\n",
              "2023-03-24   -0.001882\n",
              "2023-03-27   -0.028286\n",
              "2023-03-28   -0.016495\n",
              "2023-03-29    0.006117\n",
              "Name: Adj Close, Length: 4684, dtype: float64"
            ]
          },
          "metadata": {},
          "execution_count": 18
        }
      ]
    },
    {
      "cell_type": "markdown",
      "source": [
        "mean o la media\n",
        "```\n",
        "# Esto tiene formato de código\n",
        "```\n",
        "\n"
      ],
      "metadata": {
        "id": "NQNdO96gcxvP"
      }
    },
    {
      "cell_type": "code",
      "source": [
        "# Mean whit numpy\n",
        "mean = np.mean(df, axis=0) * 100\n",
        "print(f\"Daily Mean: {'%.2f' % mean} %\")\n",
        "\n",
        "#annualization of the mean return\n",
        "annual_mean = mean * 252\n",
        "print(f\"Mean Annual: {'%.2f' % annual_mean} %\")\n",
        "\n",
        "#day mean return --> monthly mean return\n",
        "monthly_mean= mean * 21\n",
        "print(f\"Monthly Mean: {'%.2f' % monthly_mean} %\")\n",
        "\n"
      ],
      "metadata": {
        "colab": {
          "base_uri": "https://localhost:8080/"
        },
        "id": "rYkqIaEIc2kP",
        "outputId": "8bf6d999-065a-44d9-a8bb-05433fe8f12a"
      },
      "execution_count": 22,
      "outputs": [
        {
          "output_type": "stream",
          "name": "stdout",
          "text": [
            "Daily Mean: 0.10 %\n",
            "Mean Annual: 24.69 %\n",
            "Monthly Mean: 2.06 %\n"
          ]
        }
      ]
    },
    {
      "cell_type": "code",
      "source": [
        "median = np.median(df, axis=0) * 100\n",
        "print(f\"Daily Median: {'%.2f'% median} %\")"
      ],
      "metadata": {
        "colab": {
          "base_uri": "https://localhost:8080/"
        },
        "id": "Y7wVl2zqjvWe",
        "outputId": "097c369e-04d5-4619-dac4-d8d8646b6aae"
      },
      "execution_count": 23,
      "outputs": [
        {
          "output_type": "stream",
          "name": "stdout",
          "text": [
            "Daily Median: 0.07 %\n"
          ]
        }
      ]
    },
    {
      "cell_type": "code",
      "source": [
        "#percentiles whit numpy\n",
        "percentile_10 = np.quantile(df,0.10, axis=0) * 100\n",
        "print(f\"Percentile 10%: {'%.2f' % percentile_10} %\")\n",
        "\n",
        "percentile_50 = np.quantile(df,0.50, axis=0) * 100\n",
        "print(f\"Percentile 50%: {'%.2f' % percentile_50} %\")\n",
        "\n",
        "percentile_99 = np.quantile(df,0.99, axis=0) * 100\n",
        "print(f\"Percentile 99%: {'%.2f' % percentile_99} %\")"
      ],
      "metadata": {
        "colab": {
          "base_uri": "https://localhost:8080/"
        },
        "id": "QHY4C0qel3ew",
        "outputId": "8fe1a252-e441-4dc8-dbc2-e2923bf4a268"
      },
      "execution_count": 25,
      "outputs": [
        {
          "output_type": "stream",
          "name": "stdout",
          "text": [
            "Percentile 10%: -1.94 %\n",
            "Percentile 50%: 0.07 %\n",
            "Percentile 99%: 5.74 %\n"
          ]
        }
      ]
    },
    {
      "cell_type": "code",
      "source": [
        "# variance whit numpy\n",
        "var = np.var(df,axis=0)*100\n",
        "print(f\"Daily Variance: {'%.2f' % var} %\")"
      ],
      "metadata": {
        "colab": {
          "base_uri": "https://localhost:8080/"
        },
        "id": "Cw2HW_t0z8Oe",
        "outputId": "1682bf0d-91b9-47f5-d010-255d8dd0641f"
      },
      "execution_count": 27,
      "outputs": [
        {
          "output_type": "stream",
          "name": "stdout",
          "text": [
            "Daily Variance: 0.04 %\n"
          ]
        }
      ]
    },
    {
      "cell_type": "code",
      "source": [
        "#Standard Desviation whit numpy\n",
        "#annualitation var: var_annualy = var dialy *252\n",
        "#Annualitation std: sqrt(var_annualy) = sqrt(var dialy * 252) = sqrt(var_dialy) * sqrt(252)\n",
        "#and sqrt(var) = sqrt\n",
        "\n",
        "std = np.std(df, axis=0)*100\n",
        "print(f\"Daily Volatility: {'%.2f' % std} %\")\n",
        "\n",
        "#Annualitation of the mean return\n",
        "annual_std = std * np.sqrt(252)\n",
        "print(f\"Year Volatility: {'%.2f' % annual_std} %\")\n",
        "\n",
        "# day mean return --> monthly mean return\n",
        "monthly_std = std * np.sqrt(21)\n",
        "print(f\"Monthly Volatility: {'%.2f' % monthly_std}\")\n",
        "\n",
        " \n",
        "\f"
      ],
      "metadata": {
        "colab": {
          "base_uri": "https://localhost:8080/"
        },
        "id": "qi8mpZ8U4088",
        "outputId": "235e95c4-6002-493b-c767-bd5de6698205"
      },
      "execution_count": 28,
      "outputs": [
        {
          "output_type": "stream",
          "name": "stdout",
          "text": [
            "Daily Volatility: 1.95 %\n",
            "Year Volatility: 30.88 %\n",
            "Monthly Volatility: 8.91\n"
          ]
        }
      ]
    },
    {
      "cell_type": "code",
      "source": [
        "#import several assets\n",
        "df = yf.download([\"GOOG\",\"EURUSD=X\",\"MSFT\",\"AMZN\",\"TSLA\"])[\"Adj Close\"].pct_change(1).dropna()\n",
        "df"
      ],
      "metadata": {
        "colab": {
          "base_uri": "https://localhost:8080/",
          "height": 472
        },
        "id": "CFLlm-pZA9lY",
        "outputId": "1ed755ee-136c-43fd-ce96-a1df3a23d1f0"
      },
      "execution_count": 35,
      "outputs": [
        {
          "output_type": "stream",
          "name": "stdout",
          "text": [
            "[*********************100%***********************]  5 of 5 completed\n"
          ]
        },
        {
          "output_type": "execute_result",
          "data": {
            "text/plain": [
              "                AMZN  EURUSD=X      GOOG      MSFT      TSLA\n",
              "Date                                                        \n",
              "2010-06-30  0.005985  0.003584 -0.020495 -0.012870 -0.002511\n",
              "2010-07-01  0.015559  0.022689 -0.012271  0.006519 -0.078473\n",
              "2010-07-02 -0.016402  0.005079 -0.006690  0.004750 -0.125683\n",
              "2010-07-05  0.000000 -0.002708  0.000000  0.000000  0.000000\n",
              "2010-07-06  0.008430  0.006943 -0.001100  0.023636 -0.160937\n",
              "...              ...       ...       ...       ...       ...\n",
              "2023-03-23  0.000101  0.008925  0.019574  0.019722  0.005598\n",
              "2023-03-24 -0.005876 -0.003251 -0.001882  0.010480 -0.009416\n",
              "2023-03-27 -0.000917 -0.005249 -0.028286 -0.014934  0.007353\n",
              "2023-03-28 -0.008160  0.002680 -0.016495 -0.004161 -0.013659\n",
              "2023-03-29  0.030954  0.003492  0.005328  0.019184  0.024790\n",
              "\n",
              "[3326 rows x 5 columns]"
            ],
            "text/html": [
              "\n",
              "  <div id=\"df-59f9d74a-60c0-4d35-83e3-4e3276fd452d\">\n",
              "    <div class=\"colab-df-container\">\n",
              "      <div>\n",
              "<style scoped>\n",
              "    .dataframe tbody tr th:only-of-type {\n",
              "        vertical-align: middle;\n",
              "    }\n",
              "\n",
              "    .dataframe tbody tr th {\n",
              "        vertical-align: top;\n",
              "    }\n",
              "\n",
              "    .dataframe thead th {\n",
              "        text-align: right;\n",
              "    }\n",
              "</style>\n",
              "<table border=\"1\" class=\"dataframe\">\n",
              "  <thead>\n",
              "    <tr style=\"text-align: right;\">\n",
              "      <th></th>\n",
              "      <th>AMZN</th>\n",
              "      <th>EURUSD=X</th>\n",
              "      <th>GOOG</th>\n",
              "      <th>MSFT</th>\n",
              "      <th>TSLA</th>\n",
              "    </tr>\n",
              "    <tr>\n",
              "      <th>Date</th>\n",
              "      <th></th>\n",
              "      <th></th>\n",
              "      <th></th>\n",
              "      <th></th>\n",
              "      <th></th>\n",
              "    </tr>\n",
              "  </thead>\n",
              "  <tbody>\n",
              "    <tr>\n",
              "      <th>2010-06-30</th>\n",
              "      <td>0.005985</td>\n",
              "      <td>0.003584</td>\n",
              "      <td>-0.020495</td>\n",
              "      <td>-0.012870</td>\n",
              "      <td>-0.002511</td>\n",
              "    </tr>\n",
              "    <tr>\n",
              "      <th>2010-07-01</th>\n",
              "      <td>0.015559</td>\n",
              "      <td>0.022689</td>\n",
              "      <td>-0.012271</td>\n",
              "      <td>0.006519</td>\n",
              "      <td>-0.078473</td>\n",
              "    </tr>\n",
              "    <tr>\n",
              "      <th>2010-07-02</th>\n",
              "      <td>-0.016402</td>\n",
              "      <td>0.005079</td>\n",
              "      <td>-0.006690</td>\n",
              "      <td>0.004750</td>\n",
              "      <td>-0.125683</td>\n",
              "    </tr>\n",
              "    <tr>\n",
              "      <th>2010-07-05</th>\n",
              "      <td>0.000000</td>\n",
              "      <td>-0.002708</td>\n",
              "      <td>0.000000</td>\n",
              "      <td>0.000000</td>\n",
              "      <td>0.000000</td>\n",
              "    </tr>\n",
              "    <tr>\n",
              "      <th>2010-07-06</th>\n",
              "      <td>0.008430</td>\n",
              "      <td>0.006943</td>\n",
              "      <td>-0.001100</td>\n",
              "      <td>0.023636</td>\n",
              "      <td>-0.160937</td>\n",
              "    </tr>\n",
              "    <tr>\n",
              "      <th>...</th>\n",
              "      <td>...</td>\n",
              "      <td>...</td>\n",
              "      <td>...</td>\n",
              "      <td>...</td>\n",
              "      <td>...</td>\n",
              "    </tr>\n",
              "    <tr>\n",
              "      <th>2023-03-23</th>\n",
              "      <td>0.000101</td>\n",
              "      <td>0.008925</td>\n",
              "      <td>0.019574</td>\n",
              "      <td>0.019722</td>\n",
              "      <td>0.005598</td>\n",
              "    </tr>\n",
              "    <tr>\n",
              "      <th>2023-03-24</th>\n",
              "      <td>-0.005876</td>\n",
              "      <td>-0.003251</td>\n",
              "      <td>-0.001882</td>\n",
              "      <td>0.010480</td>\n",
              "      <td>-0.009416</td>\n",
              "    </tr>\n",
              "    <tr>\n",
              "      <th>2023-03-27</th>\n",
              "      <td>-0.000917</td>\n",
              "      <td>-0.005249</td>\n",
              "      <td>-0.028286</td>\n",
              "      <td>-0.014934</td>\n",
              "      <td>0.007353</td>\n",
              "    </tr>\n",
              "    <tr>\n",
              "      <th>2023-03-28</th>\n",
              "      <td>-0.008160</td>\n",
              "      <td>0.002680</td>\n",
              "      <td>-0.016495</td>\n",
              "      <td>-0.004161</td>\n",
              "      <td>-0.013659</td>\n",
              "    </tr>\n",
              "    <tr>\n",
              "      <th>2023-03-29</th>\n",
              "      <td>0.030954</td>\n",
              "      <td>0.003492</td>\n",
              "      <td>0.005328</td>\n",
              "      <td>0.019184</td>\n",
              "      <td>0.024790</td>\n",
              "    </tr>\n",
              "  </tbody>\n",
              "</table>\n",
              "<p>3326 rows × 5 columns</p>\n",
              "</div>\n",
              "      <button class=\"colab-df-convert\" onclick=\"convertToInteractive('df-59f9d74a-60c0-4d35-83e3-4e3276fd452d')\"\n",
              "              title=\"Convert this dataframe to an interactive table.\"\n",
              "              style=\"display:none;\">\n",
              "        \n",
              "  <svg xmlns=\"http://www.w3.org/2000/svg\" height=\"24px\"viewBox=\"0 0 24 24\"\n",
              "       width=\"24px\">\n",
              "    <path d=\"M0 0h24v24H0V0z\" fill=\"none\"/>\n",
              "    <path d=\"M18.56 5.44l.94 2.06.94-2.06 2.06-.94-2.06-.94-.94-2.06-.94 2.06-2.06.94zm-11 1L8.5 8.5l.94-2.06 2.06-.94-2.06-.94L8.5 2.5l-.94 2.06-2.06.94zm10 10l.94 2.06.94-2.06 2.06-.94-2.06-.94-.94-2.06-.94 2.06-2.06.94z\"/><path d=\"M17.41 7.96l-1.37-1.37c-.4-.4-.92-.59-1.43-.59-.52 0-1.04.2-1.43.59L10.3 9.45l-7.72 7.72c-.78.78-.78 2.05 0 2.83L4 21.41c.39.39.9.59 1.41.59.51 0 1.02-.2 1.41-.59l7.78-7.78 2.81-2.81c.8-.78.8-2.07 0-2.86zM5.41 20L4 18.59l7.72-7.72 1.47 1.35L5.41 20z\"/>\n",
              "  </svg>\n",
              "      </button>\n",
              "      \n",
              "  <style>\n",
              "    .colab-df-container {\n",
              "      display:flex;\n",
              "      flex-wrap:wrap;\n",
              "      gap: 12px;\n",
              "    }\n",
              "\n",
              "    .colab-df-convert {\n",
              "      background-color: #E8F0FE;\n",
              "      border: none;\n",
              "      border-radius: 50%;\n",
              "      cursor: pointer;\n",
              "      display: none;\n",
              "      fill: #1967D2;\n",
              "      height: 32px;\n",
              "      padding: 0 0 0 0;\n",
              "      width: 32px;\n",
              "    }\n",
              "\n",
              "    .colab-df-convert:hover {\n",
              "      background-color: #E2EBFA;\n",
              "      box-shadow: 0px 1px 2px rgba(60, 64, 67, 0.3), 0px 1px 3px 1px rgba(60, 64, 67, 0.15);\n",
              "      fill: #174EA6;\n",
              "    }\n",
              "\n",
              "    [theme=dark] .colab-df-convert {\n",
              "      background-color: #3B4455;\n",
              "      fill: #D2E3FC;\n",
              "    }\n",
              "\n",
              "    [theme=dark] .colab-df-convert:hover {\n",
              "      background-color: #434B5C;\n",
              "      box-shadow: 0px 1px 3px 1px rgba(0, 0, 0, 0.15);\n",
              "      filter: drop-shadow(0px 1px 2px rgba(0, 0, 0, 0.3));\n",
              "      fill: #FFFFFF;\n",
              "    }\n",
              "  </style>\n",
              "\n",
              "      <script>\n",
              "        const buttonEl =\n",
              "          document.querySelector('#df-59f9d74a-60c0-4d35-83e3-4e3276fd452d button.colab-df-convert');\n",
              "        buttonEl.style.display =\n",
              "          google.colab.kernel.accessAllowed ? 'block' : 'none';\n",
              "\n",
              "        async function convertToInteractive(key) {\n",
              "          const element = document.querySelector('#df-59f9d74a-60c0-4d35-83e3-4e3276fd452d');\n",
              "          const dataTable =\n",
              "            await google.colab.kernel.invokeFunction('convertToInteractive',\n",
              "                                                     [key], {});\n",
              "          if (!dataTable) return;\n",
              "\n",
              "          const docLinkHtml = 'Like what you see? Visit the ' +\n",
              "            '<a target=\"_blank\" href=https://colab.research.google.com/notebooks/data_table.ipynb>data table notebook</a>'\n",
              "            + ' to learn more about interactive tables.';\n",
              "          element.innerHTML = '';\n",
              "          dataTable['output_type'] = 'display_data';\n",
              "          await google.colab.output.renderOutput(dataTable, element);\n",
              "          const docLink = document.createElement('div');\n",
              "          docLink.innerHTML = docLinkHtml;\n",
              "          element.appendChild(docLink);\n",
              "        }\n",
              "      </script>\n",
              "    </div>\n",
              "  </div>\n",
              "  "
            ]
          },
          "metadata": {},
          "execution_count": 35
        }
      ]
    },
    {
      "cell_type": "code",
      "source": [
        "#VARIANCE COVARIANCE MATRIX\n",
        "mat = np.cov(df, rowvar=False)\n",
        "pd.DataFrame(mat, columns=df.columns, index=df.columns)"
      ],
      "metadata": {
        "colab": {
          "base_uri": "https://localhost:8080/",
          "height": 206
        },
        "id": "gmxvNHRoEJKm",
        "outputId": "8ad7d160-b1ed-4725-cf9c-0f39d108beb5"
      },
      "execution_count": 40,
      "outputs": [
        {
          "output_type": "execute_result",
          "data": {
            "text/plain": [
              "              AMZN      EURUSD=X          GOOG          MSFT      TSLA\n",
              "AMZN      0.000419  3.481830e-06  2.092794e-04  1.878797e-04  0.000257\n",
              "EURUSD=X  0.000003  2.972213e-05 -8.108280e-07 -6.973998e-07 -0.000003\n",
              "GOOG      0.000209 -8.108280e-07  2.858449e-04  1.794852e-04  0.000201\n",
              "MSFT      0.000188 -6.973998e-07  1.794852e-04  2.619817e-04  0.000203\n",
              "TSLA      0.000257 -2.855273e-06  2.006078e-04  2.032894e-04  0.001261"
            ],
            "text/html": [
              "\n",
              "  <div id=\"df-d060bce1-4486-4f21-9a14-03fa494eddab\">\n",
              "    <div class=\"colab-df-container\">\n",
              "      <div>\n",
              "<style scoped>\n",
              "    .dataframe tbody tr th:only-of-type {\n",
              "        vertical-align: middle;\n",
              "    }\n",
              "\n",
              "    .dataframe tbody tr th {\n",
              "        vertical-align: top;\n",
              "    }\n",
              "\n",
              "    .dataframe thead th {\n",
              "        text-align: right;\n",
              "    }\n",
              "</style>\n",
              "<table border=\"1\" class=\"dataframe\">\n",
              "  <thead>\n",
              "    <tr style=\"text-align: right;\">\n",
              "      <th></th>\n",
              "      <th>AMZN</th>\n",
              "      <th>EURUSD=X</th>\n",
              "      <th>GOOG</th>\n",
              "      <th>MSFT</th>\n",
              "      <th>TSLA</th>\n",
              "    </tr>\n",
              "  </thead>\n",
              "  <tbody>\n",
              "    <tr>\n",
              "      <th>AMZN</th>\n",
              "      <td>0.000419</td>\n",
              "      <td>3.481830e-06</td>\n",
              "      <td>2.092794e-04</td>\n",
              "      <td>1.878797e-04</td>\n",
              "      <td>0.000257</td>\n",
              "    </tr>\n",
              "    <tr>\n",
              "      <th>EURUSD=X</th>\n",
              "      <td>0.000003</td>\n",
              "      <td>2.972213e-05</td>\n",
              "      <td>-8.108280e-07</td>\n",
              "      <td>-6.973998e-07</td>\n",
              "      <td>-0.000003</td>\n",
              "    </tr>\n",
              "    <tr>\n",
              "      <th>GOOG</th>\n",
              "      <td>0.000209</td>\n",
              "      <td>-8.108280e-07</td>\n",
              "      <td>2.858449e-04</td>\n",
              "      <td>1.794852e-04</td>\n",
              "      <td>0.000201</td>\n",
              "    </tr>\n",
              "    <tr>\n",
              "      <th>MSFT</th>\n",
              "      <td>0.000188</td>\n",
              "      <td>-6.973998e-07</td>\n",
              "      <td>1.794852e-04</td>\n",
              "      <td>2.619817e-04</td>\n",
              "      <td>0.000203</td>\n",
              "    </tr>\n",
              "    <tr>\n",
              "      <th>TSLA</th>\n",
              "      <td>0.000257</td>\n",
              "      <td>-2.855273e-06</td>\n",
              "      <td>2.006078e-04</td>\n",
              "      <td>2.032894e-04</td>\n",
              "      <td>0.001261</td>\n",
              "    </tr>\n",
              "  </tbody>\n",
              "</table>\n",
              "</div>\n",
              "      <button class=\"colab-df-convert\" onclick=\"convertToInteractive('df-d060bce1-4486-4f21-9a14-03fa494eddab')\"\n",
              "              title=\"Convert this dataframe to an interactive table.\"\n",
              "              style=\"display:none;\">\n",
              "        \n",
              "  <svg xmlns=\"http://www.w3.org/2000/svg\" height=\"24px\"viewBox=\"0 0 24 24\"\n",
              "       width=\"24px\">\n",
              "    <path d=\"M0 0h24v24H0V0z\" fill=\"none\"/>\n",
              "    <path d=\"M18.56 5.44l.94 2.06.94-2.06 2.06-.94-2.06-.94-.94-2.06-.94 2.06-2.06.94zm-11 1L8.5 8.5l.94-2.06 2.06-.94-2.06-.94L8.5 2.5l-.94 2.06-2.06.94zm10 10l.94 2.06.94-2.06 2.06-.94-2.06-.94-.94-2.06-.94 2.06-2.06.94z\"/><path d=\"M17.41 7.96l-1.37-1.37c-.4-.4-.92-.59-1.43-.59-.52 0-1.04.2-1.43.59L10.3 9.45l-7.72 7.72c-.78.78-.78 2.05 0 2.83L4 21.41c.39.39.9.59 1.41.59.51 0 1.02-.2 1.41-.59l7.78-7.78 2.81-2.81c.8-.78.8-2.07 0-2.86zM5.41 20L4 18.59l7.72-7.72 1.47 1.35L5.41 20z\"/>\n",
              "  </svg>\n",
              "      </button>\n",
              "      \n",
              "  <style>\n",
              "    .colab-df-container {\n",
              "      display:flex;\n",
              "      flex-wrap:wrap;\n",
              "      gap: 12px;\n",
              "    }\n",
              "\n",
              "    .colab-df-convert {\n",
              "      background-color: #E8F0FE;\n",
              "      border: none;\n",
              "      border-radius: 50%;\n",
              "      cursor: pointer;\n",
              "      display: none;\n",
              "      fill: #1967D2;\n",
              "      height: 32px;\n",
              "      padding: 0 0 0 0;\n",
              "      width: 32px;\n",
              "    }\n",
              "\n",
              "    .colab-df-convert:hover {\n",
              "      background-color: #E2EBFA;\n",
              "      box-shadow: 0px 1px 2px rgba(60, 64, 67, 0.3), 0px 1px 3px 1px rgba(60, 64, 67, 0.15);\n",
              "      fill: #174EA6;\n",
              "    }\n",
              "\n",
              "    [theme=dark] .colab-df-convert {\n",
              "      background-color: #3B4455;\n",
              "      fill: #D2E3FC;\n",
              "    }\n",
              "\n",
              "    [theme=dark] .colab-df-convert:hover {\n",
              "      background-color: #434B5C;\n",
              "      box-shadow: 0px 1px 3px 1px rgba(0, 0, 0, 0.15);\n",
              "      filter: drop-shadow(0px 1px 2px rgba(0, 0, 0, 0.3));\n",
              "      fill: #FFFFFF;\n",
              "    }\n",
              "  </style>\n",
              "\n",
              "      <script>\n",
              "        const buttonEl =\n",
              "          document.querySelector('#df-d060bce1-4486-4f21-9a14-03fa494eddab button.colab-df-convert');\n",
              "        buttonEl.style.display =\n",
              "          google.colab.kernel.accessAllowed ? 'block' : 'none';\n",
              "\n",
              "        async function convertToInteractive(key) {\n",
              "          const element = document.querySelector('#df-d060bce1-4486-4f21-9a14-03fa494eddab');\n",
              "          const dataTable =\n",
              "            await google.colab.kernel.invokeFunction('convertToInteractive',\n",
              "                                                     [key], {});\n",
              "          if (!dataTable) return;\n",
              "\n",
              "          const docLinkHtml = 'Like what you see? Visit the ' +\n",
              "            '<a target=\"_blank\" href=https://colab.research.google.com/notebooks/data_table.ipynb>data table notebook</a>'\n",
              "            + ' to learn more about interactive tables.';\n",
              "          element.innerHTML = '';\n",
              "          dataTable['output_type'] = 'display_data';\n",
              "          await google.colab.output.renderOutput(dataTable, element);\n",
              "          const docLink = document.createElement('div');\n",
              "          docLink.innerHTML = docLinkHtml;\n",
              "          element.appendChild(docLink);\n",
              "        }\n",
              "      </script>\n",
              "    </div>\n",
              "  </div>\n",
              "  "
            ]
          },
          "metadata": {},
          "execution_count": 40
        }
      ]
    },
    {
      "cell_type": "code",
      "source": [
        "#covariance"
      ],
      "metadata": {
        "id": "EAjd6XSiEpv1"
      },
      "execution_count": null,
      "outputs": []
    }
  ]
}